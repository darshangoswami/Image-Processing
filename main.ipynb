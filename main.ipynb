{
 "cells": [
  {
   "cell_type": "code",
   "execution_count": 57,
   "metadata": {},
   "outputs": [],
   "source": [
    "#imports\n",
    "import cv2\n",
    "import numpy as np\n",
    "from PIL import Image\n",
    "import matplotlib.pyplot as plt"
   ]
  },
  {
   "cell_type": "markdown",
   "metadata": {},
   "source": [
    "# Problem 1"
   ]
  },
  {
   "cell_type": "code",
   "execution_count": 58,
   "metadata": {},
   "outputs": [],
   "source": [
    "img = Image.open('./Lenna.png')\n",
    "\n",
    "# Convert the image to grayscale using 'L' mode\n",
    "grayscale_img = img.convert('L')"
   ]
  },
  {
   "cell_type": "code",
   "execution_count": 59,
   "metadata": {},
   "outputs": [],
   "source": [
    "\"\"\"Downsample the image by taking every other pixel in both x and y directions.\"\"\"\n",
    "img_array = np.array(grayscale_img)\n",
    "\n",
    "# Downsample by taking every other pixel in both dimensions\n",
    "downsampled_img_array = img_array[::2, ::2]\n",
    "\n",
    "# Downsample for the second time\n",
    "downsampled_twice_img_array = downsampled_img_array[::2, ::2]\n",
    "\n",
    "# Convert back to PIL Image\n",
    "downsampled_img = Image.fromarray(downsampled_img_array)\n",
    "downsampled_twice_img = Image.fromarray(downsampled_twice_img_array)"
   ]
  },
  {
   "cell_type": "code",
   "execution_count": null,
   "metadata": {},
   "outputs": [],
   "source": [
    "\"\"\"Comparison 1\"\"\"\n",
    "plt.figure(figsize=(15, 5))\n",
    "\n",
    "# Display original grayscale image\n",
    "plt.subplot(1, 3, 1)\n",
    "plt.title(\"Original Grayscale Image\")\n",
    "plt.imshow(grayscale_img, cmap='gray')\n",
    "plt.axis('off')\n",
    "\n",
    "# Display downsampled image (scaled to original size for comparison)\n",
    "plt.subplot(1, 3, 2)\n",
    "plt.title(\"Downsampled Image (Original Size)\")\n",
    "plt.imshow(downsampled_img, cmap='gray')\n",
    "plt.axis('off')\n",
    "\n",
    "# Display downsampled twice image (scaled to original size for comparison)\n",
    "plt.subplot(1, 3, 3)\n",
    "plt.title(\"Downsampled Image Twice (Original Size)\")\n",
    "plt.imshow(downsampled_twice_img, cmap='gray')\n",
    "plt.axis('off')\n",
    "\n",
    "plt.show()"
   ]
  },
  {
   "cell_type": "code",
   "execution_count": 61,
   "metadata": {},
   "outputs": [],
   "source": [
    "def upsample_image(downsampled_img, times):\n",
    "    \"\"\"Upsample the image by inserting empty pixels between each pixel.\"\"\"\n",
    "    img_array = np.array(downsampled_img)\n",
    "    \n",
    "    for _ in range(times):\n",
    "        # Get current dimensions\n",
    "        h, w = img_array.shape[0], img_array.shape[1]\n",
    "        \n",
    "        # Create a new array with twice the size, filled with zeros (empty pixels)\n",
    "        upsampled_img_array = np.zeros((h * 2, w * 2), dtype=img_array.dtype)\n",
    "        \n",
    "        # Copy original pixels into the upsampled array at every other index\n",
    "        upsampled_img_array[::2, ::2] = img_array\n",
    "        \n",
    "        # Update img_array for next iteration if upsampled multiple times\n",
    "        img_array = upsampled_img_array\n",
    "    \n",
    "    # Convert back to PIL Image\n",
    "    upsampled_img = Image.fromarray(upsampled_img_array)\n",
    "    \n",
    "    return upsampled_img"
   ]
  },
  {
   "cell_type": "code",
   "execution_count": null,
   "metadata": {},
   "outputs": [],
   "source": [
    "\"\"\"Comparison 2\"\"\"\n",
    "plt.figure(figsize=(15, 5))\n",
    "\n",
    "# Display upsampled image\n",
    "plt.subplot(1, 3, 1)\n",
    "plt.title(\"Upsampled Image\")\n",
    "plt.imshow(upsample_image(downsampled_twice_img, 1), cmap='gray')\n",
    "plt.axis('off')\n",
    "\n",
    "# Display upsampled twice image\n",
    "plt.subplot(1, 3, 2)\n",
    "plt.title(\"Upsampled Image Twice\")\n",
    "plt.imshow(upsample_image(downsampled_twice_img, 2), cmap='gray')\n",
    "plt.axis('off')\n",
    "\n",
    "plt.show()"
   ]
  },
  {
   "cell_type": "markdown",
   "metadata": {},
   "source": [
    "# Problem 2"
   ]
  },
  {
   "cell_type": "code",
   "execution_count": 63,
   "metadata": {},
   "outputs": [],
   "source": [
    "def myGaussianSmoothing(I, k, s):\n",
    "    \"\"\"\n",
    "    Apply Gaussian smoothing to an image I with kernel size k and scaling parameter s (sigma).\n",
    "    \n",
    "    Parameters:\n",
    "    - I: Input image\n",
    "    - k: Kernel size (should be an odd number)\n",
    "    - s: Standard deviation for the Gaussian kernel (sigma)\n",
    "    \n",
    "    Returns:\n",
    "    - I_smooth: Smoothed image\n",
    "    \"\"\"\n",
    "    # Ensure kernel size is odd\n",
    "    if k % 2 == 0:\n",
    "        raise ValueError(\"Kernel size should be an odd number\")\n",
    "    \n",
    "    # Apply Gaussian Blur using OpenCV's GaussianBlur function\n",
    "    I_smooth = cv2.GaussianBlur(I, (k, k), s)\n",
    "    return I_smooth"
   ]
  },
  {
   "cell_type": "code",
   "execution_count": 64,
   "metadata": {},
   "outputs": [],
   "source": [
    "def plot_images(original, smoothed_images, titles):\n",
    "    \"\"\" Utility function to plot the original and smoothed images. \"\"\"\n",
    "    plt.figure(figsize=(12, 6))\n",
    "    \n",
    "    # Plot original image\n",
    "    plt.subplot(2, len(smoothed_images)//2 + 1, 1)\n",
    "    plt.imshow(original, cmap='gray')\n",
    "    plt.title('Original Image')\n",
    "    plt.axis('off')\n",
    "    \n",
    "    # Plot smoothed images\n",
    "    for i, (img, title) in enumerate(zip(smoothed_images, titles)):\n",
    "        plt.subplot(2, len(smoothed_images)//2 + 1, i + 2)\n",
    "        plt.imshow(img, cmap='gray')\n",
    "        plt.title(title)\n",
    "        plt.axis('off')\n",
    "    \n",
    "    plt.tight_layout()\n",
    "    plt.show()"
   ]
  },
  {
   "cell_type": "code",
   "execution_count": null,
   "metadata": {},
   "outputs": [],
   "source": [
    "I = cv2.imread('./Lenna.png', cv2.IMREAD_GRAYSCALE)  # Load a grayscale image\n",
    "\n",
    "# Part 1: Varying kernel size with fixed sigma\n",
    "kernel_sizes = [3, 5, 7, 11, 51]\n",
    "sigma = 1\n",
    "smoothed_images_k = [myGaussianSmoothing(I, k, sigma) for k in kernel_sizes]\n",
    "titles_k = [f\"k={k}, sigma={sigma}\" for k in kernel_sizes]\n",
    "\n",
    "# Part 2: Varying sigma with fixed kernel size\n",
    "kernel_size = 11\n",
    "sigmas = [0.1, 1, 2, 3, 5]\n",
    "smoothed_images_s = [myGaussianSmoothing(I, kernel_size, s) for s in sigmas]\n",
    "titles_s = [f\"k={kernel_size}, sigma={s}\" for s in sigmas]\n",
    "\n",
    "# Plot results for varying kernel sizes\n",
    "plot_images(I, smoothed_images_k, titles_k)\n",
    "\n",
    "# Plot results for varying sigma\n",
    "plot_images(I, smoothed_images_s, titles_s)"
   ]
  },
  {
   "cell_type": "markdown",
   "metadata": {},
   "source": [
    "# Problem 3"
   ]
  },
  {
   "cell_type": "code",
   "execution_count": 66,
   "metadata": {},
   "outputs": [],
   "source": [
    "def median_filter(image, kernel_size):\n",
    "    \"\"\"Apply median filter to the image.\"\"\"\n",
    "    padded = np.pad(image, kernel_size // 2, mode='edge')\n",
    "    result = np.zeros_like(image)\n",
    "    for i in range(image.shape[0]):\n",
    "        for j in range(image.shape[1]):\n",
    "            window = padded[i:i+kernel_size, j:j+kernel_size]\n",
    "            result[i, j] = np.median(window)\n",
    "    return result"
   ]
  },
  {
   "cell_type": "code",
   "execution_count": 67,
   "metadata": {},
   "outputs": [],
   "source": [
    "def process_image(downsampled_img, upsample_times, gaussian_k, gaussian_sigma, median_k):\n",
    "    \"\"\"Process the image: upsample, apply Gaussian smoothing, and median filtering.\"\"\"\n",
    "    # Upsample\n",
    "    upsampled = upsample_image(downsampled_img, upsample_times)\n",
    "    \n",
    "    # Convert to numpy array if it's not already\n",
    "    upsampled_array = np.array(upsampled)\n",
    "    \n",
    "    # Gaussian smoothing\n",
    "    smoothed = myGaussianSmoothing(upsampled_array, gaussian_k, gaussian_sigma)\n",
    "    \n",
    "    # Median filtering\n",
    "    median_filtered = median_filter(upsampled_array, median_k)\n",
    "    \n",
    "    return upsampled_array, smoothed, median_filtered"
   ]
  },
  {
   "cell_type": "code",
   "execution_count": 68,
   "metadata": {},
   "outputs": [],
   "source": [
    "def plot_results(original, upsampled, smoothed, median_filtered):\n",
    "    \"\"\"Plot the original, upsampled, smoothed, and median filtered images.\"\"\"\n",
    "    plt.figure(figsize=(20, 5))\n",
    "    \n",
    "    plt.subplot(1, 4, 1)\n",
    "    plt.imshow(original, cmap='gray')\n",
    "    plt.title(\"Original Downsampled\")\n",
    "    plt.axis('off')\n",
    "    \n",
    "    plt.subplot(1, 4, 2)\n",
    "    plt.imshow(upsampled, cmap='gray')\n",
    "    plt.title(\"Upsampled\")\n",
    "    plt.axis('off')\n",
    "    \n",
    "    plt.subplot(1, 4, 3)\n",
    "    plt.imshow(smoothed, cmap='gray')\n",
    "    plt.title(\"Gaussian Smoothed\")\n",
    "    plt.axis('off')\n",
    "    \n",
    "    plt.subplot(1, 4, 4)\n",
    "    plt.imshow(median_filtered, cmap='gray')\n",
    "    plt.title(\"Median Filtered\")\n",
    "    plt.axis('off')\n",
    "    \n",
    "    plt.tight_layout()\n",
    "    plt.show()"
   ]
  },
  {
   "cell_type": "code",
   "execution_count": 69,
   "metadata": {},
   "outputs": [],
   "source": [
    "# Process the image\n",
    "upsampled, smoothed, median_filtered = process_image(\n",
    "    downsampled_twice_img, \n",
    "    upsample_times=1, \n",
    "    gaussian_k=11, \n",
    "    gaussian_sigma=1, \n",
    "    median_k=1\n",
    ")\n"
   ]
  },
  {
   "cell_type": "code",
   "execution_count": null,
   "metadata": {},
   "outputs": [],
   "source": [
    "# Plot results\n",
    "plot_results(downsampled_twice_img, upsampled, smoothed, median_filtered)"
   ]
  },
  {
   "cell_type": "markdown",
   "metadata": {},
   "source": [
    "# Problem 4"
   ]
  },
  {
   "cell_type": "code",
   "execution_count": 71,
   "metadata": {},
   "outputs": [],
   "source": [
    "def add_gaussian_noise(image, mean=0, std=0.1):\n",
    "    \"\"\"Add Gaussian noise to an image.\"\"\"\n",
    "    noise = np.random.normal(mean, std, image.shape)\n",
    "    noisy_image = image + noise\n",
    "    return np.clip(noisy_image, 0, 1)  # Ensure values are in [0, 1] range"
   ]
  },
  {
   "cell_type": "code",
   "execution_count": 72,
   "metadata": {},
   "outputs": [],
   "source": [
    "def add_thresholded_noise(image, mean=0, std=0.1, threshold=0.2):\n",
    "    \"\"\"Add thresholded Gaussian noise to an image.\"\"\"\n",
    "    noise = np.random.normal(mean, std, image.shape)\n",
    "    thresholded_noise = np.where(noise > threshold, 1, 0)\n",
    "    noisy_image = image + thresholded_noise\n",
    "    return np.clip(noisy_image, 0, 1)  # Ensure values are in [0, 1] range"
   ]
  },
  {
   "cell_type": "code",
   "execution_count": 73,
   "metadata": {},
   "outputs": [],
   "source": [
    "def plot_images(images, titles):\n",
    "    \"\"\"Plot multiple images side by side.\"\"\"\n",
    "    fig, axes = plt.subplots(1, len(images), figsize=(20, 5))\n",
    "    for ax, image, title in zip(axes, images, titles):\n",
    "        ax.imshow(image, cmap='gray')\n",
    "        ax.set_title(title)\n",
    "        ax.axis('off')\n",
    "    plt.tight_layout()\n",
    "    plt.show()"
   ]
  },
  {
   "cell_type": "code",
   "execution_count": null,
   "metadata": {},
   "outputs": [],
   "source": [
    "# Load the original image\n",
    "original_image = np.array(Image.open('./Lenna.png').convert('L')) / 255.0  # Normalize to [0, 1]\n",
    "\n",
    "# Add Gaussian noise\n",
    "noisy_image = add_gaussian_noise(original_image)\n",
    "\n",
    "# Apply Gaussian smoothing (you can adjust these parameters)\n",
    "gaussian_smoothed = cv2.GaussianBlur(noisy_image, (5, 5), 1)\n",
    "\n",
    "# Apply median filtering\n",
    "median_filtered = median_filter(noisy_image, 3)\n",
    "\n",
    "# Plot results\n",
    "plot_images([original_image, noisy_image, gaussian_smoothed, median_filtered],\n",
    "            ['Original', 'Noisy', 'Gaussian Smoothed', 'Median Filtered'])"
   ]
  },
  {
   "cell_type": "code",
   "execution_count": null,
   "metadata": {},
   "outputs": [],
   "source": [
    "# Now let's add thresholded noise\n",
    "thresholded_noisy_image = add_thresholded_noise(original_image)\n",
    "\n",
    "# Apply Gaussian smoothing to thresholded noisy image\n",
    "gaussian_smoothed_thresholded = cv2.GaussianBlur(thresholded_noisy_image, (5, 5), 1)\n",
    "\n",
    "# Apply median filtering to thresholded noisy image\n",
    "median_filtered_thresholded = median_filter(thresholded_noisy_image, 3)\n",
    "\n",
    "# Plot results for thresholded noise\n",
    "plot_images([original_image, thresholded_noisy_image, gaussian_smoothed_thresholded, median_filtered_thresholded],\n",
    "            ['Original', 'Thresholded Noisy', 'Gaussian Smoothed (Thresholded)', 'Median Filtered (Thresholded)'])"
   ]
  },
  {
   "cell_type": "markdown",
   "metadata": {},
   "source": [
    "# Problem 5"
   ]
  },
  {
   "cell_type": "code",
   "execution_count": 76,
   "metadata": {},
   "outputs": [],
   "source": [
    "def mySobelFilter(I):\n",
    "    \"\"\"\n",
    "    Apply Sobel filter to an image and return magnitude and orientation of gradients.\n",
    "    \n",
    "    :param I: Input image (grayscale)\n",
    "    :return: Tuple (magnitude, orientation) of gradients\n",
    "    \"\"\"\n",
    "    # Define Sobel kernels\n",
    "    kernel_x = np.array([[-1, 0, 1], [-2, 0, 2], [-1, 0, 1]])\n",
    "    kernel_y = np.array([[-1, -2, -1], [0, 0, 0], [1, 2, 1]])\n",
    "\n",
    "    # Apply convolution\n",
    "    grad_x = cv2.filter2D(I, -1, kernel_x)\n",
    "    grad_y = cv2.filter2D(I, -1, kernel_y)\n",
    "\n",
    "    # Calculate magnitude and orientation\n",
    "    magnitude = np.sqrt(grad_x**2 + grad_y**2)\n",
    "    orientation = np.arctan2(grad_y, grad_x)\n",
    "\n",
    "    # Normalize magnitude to [0, 1]\n",
    "    magnitude = cv2.normalize(magnitude, None, 0, 1, cv2.NORM_MINMAX)\n",
    "\n",
    "    return magnitude, orientation"
   ]
  },
  {
   "cell_type": "code",
   "execution_count": 77,
   "metadata": {},
   "outputs": [],
   "source": [
    "def visualize_sobel(magnitude, orientation):\n",
    "    \"\"\"\n",
    "    Visualize Sobel filter results using HSV color space.\n",
    "    \n",
    "    :param magnitude: Magnitude of gradients\n",
    "    :param orientation: Orientation of gradients\n",
    "    :return: RGB image\n",
    "    \"\"\"\n",
    "    # Convert orientation to hue (0-179 for OpenCV)\n",
    "    hue = (orientation + np.pi) / (2 * np.pi) * 179\n",
    "\n",
    "    # Create HSV image\n",
    "    hsv = np.zeros((*magnitude.shape, 3), dtype=np.uint8)\n",
    "    hsv[..., 0] = hue.astype(np.uint8)\n",
    "    hsv[..., 1] = (magnitude * 255).astype(np.uint8)  # Saturation\n",
    "    hsv[..., 2] = (magnitude * 255).astype(np.uint8)  # Value\n",
    "\n",
    "    # Convert HSV to RGB\n",
    "    rgb = cv2.cvtColor(hsv, cv2.COLOR_HSV2RGB)\n",
    "\n",
    "    return rgb"
   ]
  },
  {
   "cell_type": "code",
   "execution_count": 78,
   "metadata": {},
   "outputs": [],
   "source": [
    "# Load and preprocess the image\n",
    "image = np.array(Image.open('./Lenna.png').convert('L'))\n",
    "image = image.astype(np.float32) / 255.0  # Normalize to [0, 1]\n",
    "\n",
    "# Apply Sobel filter\n",
    "magnitude, orientation = mySobelFilter(image)\n",
    "\n",
    "# Visualize results\n",
    "rgb_visualization = visualize_sobel(magnitude, orientation)"
   ]
  },
  {
   "cell_type": "code",
   "execution_count": null,
   "metadata": {},
   "outputs": [],
   "source": [
    "# Plot results\n",
    "plt.figure(figsize=(20, 5))\n",
    "\n",
    "plt.subplot(1, 4, 1)\n",
    "plt.imshow(image, cmap='gray')\n",
    "plt.title('Original Image')\n",
    "plt.axis('off')\n",
    "\n",
    "plt.subplot(1, 4, 2)\n",
    "plt.imshow(magnitude, cmap='gray')\n",
    "plt.title('Gradient Magnitude')\n",
    "plt.axis('off')\n",
    "\n",
    "plt.subplot(1, 4, 3)\n",
    "plt.imshow(orientation, cmap='hsv')\n",
    "plt.title('Gradient Orientation')\n",
    "plt.axis('off')\n",
    "\n",
    "plt.subplot(1, 4, 4)\n",
    "plt.imshow(rgb_visualization)\n",
    "plt.title('Color Visualization')\n",
    "plt.axis('off')\n",
    "\n",
    "plt.tight_layout()\n",
    "plt.show()"
   ]
  }
 ],
 "metadata": {
  "kernelspec": {
   "display_name": "Python 3",
   "language": "python",
   "name": "python3"
  },
  "language_info": {
   "codemirror_mode": {
    "name": "ipython",
    "version": 3
   },
   "file_extension": ".py",
   "mimetype": "text/x-python",
   "name": "python",
   "nbconvert_exporter": "python",
   "pygments_lexer": "ipython3",
   "version": "3.12.6"
  }
 },
 "nbformat": 4,
 "nbformat_minor": 2
}
